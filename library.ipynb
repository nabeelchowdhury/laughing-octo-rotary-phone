{
 "cells": [
  {
   "cell_type": "code",
   "execution_count": 1,
   "metadata": {},
   "outputs": [],
   "source": [
    "import datetime"
   ]
  },
  {
   "cell_type": "code",
   "execution_count": 7,
   "metadata": {},
   "outputs": [
    {
     "name": "stdout",
     "output_type": "stream",
     "text": [
      "Book: Harry Potter and the Philosophers Stone (1997) checked out successfully\n",
      "{'Harry Potter and the Philosophers Stone (1997)': {'copies': 4, 'current borrowers': ['Peter']}, 'Harry Potter and the Chamber of Secrets (1998)': {'copies': 4, 'current borrowers': []}, 'Harry Potter and the Prisoner of Azkaban (1999)': {'copies': 6, 'current borrowers': []}}\n",
      "{'Peter': {'borrowed books': ['Harry Potter and the Philosophers Stone (1997)'], 'fines': 0}, 'Timothy': {'borrwed books': [], 'fines': 0}}\n"
     ]
    }
   ],
   "source": [
    "inventory = {\n",
    "    'Harry Potter and the Philosophers Stone (1997)' : {'copies' : 5, 'current borrowers' : []},\n",
    "    'Harry Potter and the Chamber of Secrets (1998)' : {'copies' : 4, 'current borrowers' : []},\n",
    "    'Harry Potter and the Prisoner of Azkaban (1999)' : {'copies' : 6, 'current borrowers' : []}\n",
    "}\n",
    "\n",
    "user_info = {\n",
    "    'Peter' : {'borrowed books' : [], 'fines' : 0},\n",
    "    'Timothy' : {'borrwed books' : [], 'fines' : 0}\n",
    "}\n",
    "\n",
    "def checkout_book(book_name, user_name):\n",
    "    if inventory[book_name]['copies'] > 0 and len(user_info[user_name]['borrowed books']) < 3: #max 3 books they can borrow\n",
    "\n",
    "        inventory[book_name]['copies'] -= 1 #subtract 1 from list of books if they borrow it\n",
    "        inventory[book_name]['current borrowers'].append(user_name) #add borrower to the list if they borrowed\n",
    "\n",
    "        user_info[user_name]['borrowed books'].append(book_name)\n",
    "        print(f\"Book: {book_name} checked out successfully\")\n",
    "    \n",
    "    else:\n",
    "        print(\"Error : Book is not available or user has reached maximum borrow limit.\")\n",
    "\n",
    "\n",
    "\n",
    "def return_book(book_name, user_name):\n",
    "    if book_name in user_info[user_name]['borrowed_books']:\n",
    "        inventory[book_name]['copies'] +=1\n",
    "        inventory[book_name]['current_borrowers'].remove(user_name)\n",
    "        user_info[user_name]['borrowed_books'].remove(book_name)\n",
    "        print(f\"Book '{book_name}' returned successfully.\")\n",
    "    else:\n",
    "        print(\"Error:User has not borrowed this book\")\n",
    "\n",
    "checkout_book('Harry Potter and the Philosophers Stone (1997)', 'Peter')\n",
    "print(inventory)\n",
    "print(user_info)"
   ]
  },
  {
   "cell_type": "code",
   "execution_count": null,
   "metadata": {},
   "outputs": [],
   "source": [
    "class Books:\n",
    "    def __init__(self, title=\"\", current_borrowers=[], copies=0):\n",
    "\n",
    "        class Users:\n",
    "            def __init__():\n",
    "                "
   ]
  },
  {
   "cell_type": "code",
   "execution_count": null,
   "metadata": {},
   "outputs": [],
   "source": []
  }
 ],
 "metadata": {
  "kernelspec": {
   "display_name": "Python 3",
   "language": "python",
   "name": "python3"
  },
  "language_info": {
   "codemirror_mode": {
    "name": "ipython",
    "version": 3
   },
   "file_extension": ".py",
   "mimetype": "text/x-python",
   "name": "python",
   "nbconvert_exporter": "python",
   "pygments_lexer": "ipython3",
   "version": "3.9.13"
  }
 },
 "nbformat": 4,
 "nbformat_minor": 2
}
